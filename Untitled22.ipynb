{
 "cells": [
  {
   "cell_type": "markdown",
   "id": "cb194053",
   "metadata": {},
   "source": [
    "### 1.Artificial Intelligence"
   ]
  },
  {
   "cell_type": "code",
   "execution_count": null,
   "id": "be8c52fb",
   "metadata": {},
   "outputs": [],
   "source": [
    "Artificial intelligence is a field,\n",
    "which combines computer science and robust datasets, to enable problem-solving.\n",
    "It also encompasses sub-fields of machine learning and deep learning,\n",
    "which are frequently mentioned in conjunction with artificial intelligence."
   ]
  },
  {
   "cell_type": "markdown",
   "id": "e2185f97",
   "metadata": {},
   "source": [
    "### 2.Machine Learning"
   ]
  },
  {
   "cell_type": "code",
   "execution_count": null,
   "id": "d7baaca9",
   "metadata": {},
   "outputs": [],
   "source": [
    "Machine Learning is an AI technique that teaches computers to learn from experience.\n",
    "Machine learning algorithms use computational methods to “learn” information directly from\n",
    "data without relying on a predetermined equation as a model."
   ]
  },
  {
   "cell_type": "markdown",
   "id": "70898be9",
   "metadata": {},
   "source": [
    "### 3.Deep Learnig"
   ]
  },
  {
   "cell_type": "code",
   "execution_count": null,
   "id": "ad9214f3",
   "metadata": {},
   "outputs": [],
   "source": [
    "Deep learning is a subset of machine learning, which is essentially a neural network with three or\n",
    "more layers. These neural networks attempt to simulate the behavior of the human brain—albeit far \n",
    "from matching its ability—allowing it to “learn” from large amounts of data."
   ]
  },
  {
   "cell_type": "markdown",
   "id": "0d1125f4",
   "metadata": {},
   "source": [
    "### Q2- What is supervised learning? List some examples of supervised learning."
   ]
  },
  {
   "cell_type": "code",
   "execution_count": null,
   "id": "85b84d00",
   "metadata": {},
   "outputs": [],
   "source": [
    "Supervised learning, also known as supervised machine learning, is a subcategory of \n",
    "machine learning and artificial intelligence.\n",
    "It is defined by its use of labeled datasets to train algorithms\n",
    "that to classify data or predict outcomes accurately.\n",
    "Example- Spam detection"
   ]
  },
  {
   "cell_type": "markdown",
   "id": "75bda92b",
   "metadata": {},
   "source": [
    "### Q3- What is unsupervised Learning? Lis some examples of unsupervised learning."
   ]
  },
  {
   "cell_type": "code",
   "execution_count": null,
   "id": "3e717736",
   "metadata": {},
   "outputs": [],
   "source": [
    "Unsupervised learning, also known as unsupervised machine learning,\n",
    "uses machine learning algorithms to analyze and cluster unlabeled datasets.\n",
    "These algorithms discover hidden patterns or data groupings\n",
    "without the need for human intervention.\n",
    "Examples- Image recognation "
   ]
  },
  {
   "cell_type": "markdown",
   "id": "aba0e89a",
   "metadata": {},
   "source": [
    "### 4. difference between ai , ml , ds , and dl."
   ]
  },
  {
   "cell_type": "code",
   "execution_count": null,
   "id": "5c6a7585",
   "metadata": {},
   "outputs": [],
   "source": [
    "AI is a computer algorithm which exhibits intelligence through decision making.\n",
    "ML is an AI algorithm which allows system to learn from data.\n",
    "DL is a ML algorithm that uses deep(more than one layer) neural networks to analyze data\n",
    "and provide output accordingly.\n",
    "Data Science is a blend of various fields like Probability, Statistics, Programming, Analysis, Cloud Computing, etc;\n",
    "which are used to extract value from the data provided"
   ]
  },
  {
   "cell_type": "markdown",
   "id": "4b27e90a",
   "metadata": {},
   "source": [
    "### 5.How can be unsupervised learning in anomaly detection?"
   ]
  },
  {
   "cell_type": "code",
   "execution_count": null,
   "id": "d5ad5ffe",
   "metadata": {},
   "outputs": [],
   "source": [
    "Anomaly detection techniques of unsupervised nature assume that normal data points\n",
    "occur considerably more frequently than anomalous data points.\n",
    "This assumption is used to classify data points that occur less frequently as anomalies.\n",
    "Unsupervised techniques assign each data point a score instead of a label."
   ]
  },
  {
   "cell_type": "markdown",
   "id": "0492a6f0",
   "metadata": {},
   "source": [
    "### 6. supervised and unsupervised algorithms and its name?"
   ]
  },
  {
   "cell_type": "code",
   "execution_count": null,
   "id": "310077f7",
   "metadata": {},
   "outputs": [],
   "source": [
    "The most commonly used Supervised Learning algorithms are\n",
    "decision tree, logistic regression, linear regression, support vector machine."
   ]
  },
  {
   "cell_type": "code",
   "execution_count": null,
   "id": "3acb2762",
   "metadata": {},
   "outputs": [],
   "source": [
    "The most commonly used Unsupervised Learning algorithms are k-means clustering,\n",
    "hierarchical clustering, and apriori algorithm."
   ]
  }
 ],
 "metadata": {
  "kernelspec": {
   "display_name": "Python 3 (ipykernel)",
   "language": "python",
   "name": "python3"
  },
  "language_info": {
   "codemirror_mode": {
    "name": "ipython",
    "version": 3
   },
   "file_extension": ".py",
   "mimetype": "text/x-python",
   "name": "python",
   "nbconvert_exporter": "python",
   "pygments_lexer": "ipython3",
   "version": "3.9.12"
  }
 },
 "nbformat": 4,
 "nbformat_minor": 5
}
